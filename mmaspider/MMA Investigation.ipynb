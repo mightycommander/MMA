{
 "cells": [
  {
   "cell_type": "code",
   "execution_count": 1,
   "metadata": {
    "collapsed": true
   },
   "outputs": [],
   "source": [
    "import pandas as pd\n",
    "import numpy as np\n",
    "import os\n"
   ]
  },
  {
   "cell_type": "code",
   "execution_count": 2,
   "metadata": {
    "collapsed": false
   },
   "outputs": [
    {
     "data": {
      "text/plain": [
       "'/Users/matthewmardle/Documents/MMA/mmaspider'"
      ]
     },
     "execution_count": 2,
     "metadata": {},
     "output_type": "execute_result"
    }
   ],
   "source": [
    "#path = r'C:\\Users\\mmardle\\Documents\\Projects\\MMA\\mmaspider'\n",
    "#os.chdir(path)\n",
    "os.getcwd()"
   ]
  },
  {
   "cell_type": "code",
   "execution_count": 3,
   "metadata": {
    "collapsed": false
   },
   "outputs": [
    {
     "name": "stderr",
     "output_type": "stream",
     "text": [
      "/Users/matthewmardle/anaconda/lib/python3.6/site-packages/IPython/core/interactiveshell.py:2717: DtypeWarning: Columns (8) have mixed types. Specify dtype option on import or set low_memory=False.\n",
      "  interactivity=interactivity, compiler=compiler, result=result)\n"
     ]
    }
   ],
   "source": [
    "sher = pd.read_csv('items.csv')\n",
    "bel = pd.read_csv('belevents2.csv', encoding='iso-8859-1')\n",
    "sf = pd.read_csv('sfEvents.csv', encoding='iso-8859-1')\n",
    "ufc = pd.read_csv('wikiUfc.csv', encoding='iso-8859-1')\n",
    "ufc.columns.values[3] = 'weightclass'"
   ]
  },
  {
   "cell_type": "code",
   "execution_count": 4,
   "metadata": {
    "collapsed": false
   },
   "outputs": [],
   "source": [
    "bel = bel[['card', 'city', 'date', 'event', 'fightRound', 'fighterOne',\n",
    "       'fighterOneUrl', 'fighterTwo', 'fighterTwoUrl', 'method', 'notes',\n",
    "       'result', 'roundTime', 'weightclass']]\n",
    "\n",
    "ufc['date'] = ufc['date'].str.replace('Ê', ' ')\n",
    "ufc['date'] = ufc['date'].str.replace('å', '')\n",
    "\n",
    "sher['date'] = pd.to_datetime(sher['date'])\n",
    "bel['date'] = pd.to_datetime(bel['date'])\n",
    "ufc = ufc[ufc['date'] != \"Cancelled\"]\n",
    "ufc['date'] = pd.to_datetime(ufc['date'])\n",
    "sf['date'] = pd.to_datetime(sf['date'])"
   ]
  },
  {
   "cell_type": "code",
   "execution_count": 5,
   "metadata": {
    "collapsed": false
   },
   "outputs": [],
   "source": [
    "events = sher.merge(bel[['weightclass', 'date', 'fighterOne']], how='left', left_on=['fighterOne', 'date'], \\\n",
    "                    right_on=['fighterOne', 'date']).\\\n",
    "merge(sf[['weightclass', 'date', 'fighterOne']], how='left', left_on=['fighterOne', 'date'], right_on=['fighterOne', 'date']).\\\n",
    "merge(ufc[[1,3,5]], how='left', left_on=['fighterOne', 'date'], right_on=['fighterOne', 'date'])"
   ]
  },
  {
   "cell_type": "code",
   "execution_count": 6,
   "metadata": {
    "collapsed": false
   },
   "outputs": [],
   "source": [
    "events[['weightclass', 'weightclass_x', 'weightclass_y']] = events[['weightclass', 'weightclass_x', 'weightclass_y']].fillna('')\n",
    "events['WeightClass'] = events[['weightclass', 'weightclass_x', 'weightclass_y']].apply(lambda x: ''.join(x), axis=1)\n",
    "events = events[['fighterOneUrl', 'referee', 'fighterTwoResult', 'fighterTwo', 'title',\n",
    "       'fightNum', 'fighterOneResult', 'fighterTwoUrl', 'fightRound',\n",
    "       'competition', 'time', 'date', 'fighterOne', 'method', 'match',\n",
    "       'location','WeightClass']]"
   ]
  },
  {
   "cell_type": "code",
   "execution_count": 102,
   "metadata": {
    "collapsed": false
   },
   "outputs": [],
   "source": [
    "df = pd.read_csv('allFightersData.csv', encoding='iso-8859-1')"
   ]
  },
  {
   "cell_type": "code",
   "execution_count": 103,
   "metadata": {
    "collapsed": false
   },
   "outputs": [],
   "source": [
    "df['date'] = pd.to_datetime(df['date'].str[24:])"
   ]
  },
  {
   "cell_type": "code",
   "execution_count": 107,
   "metadata": {
    "collapsed": false
   },
   "outputs": [],
   "source": [
    "for x, i in enumerate(df['record'].str.split(\"–\")):\n",
    "    if len(i) == 2:\n",
    "        df.loc[x, 'totalFights'] = int(i[0]) + int(i[1].split(\" \")[0])\n",
    "    elif len(i) == 3:\n",
    "        df.loc[x, 'totalFights'] = int(i[0]) + int(i[1]) + int(i[2].split(\" \")[0])"
   ]
  },
  {
   "cell_type": "code",
   "execution_count": 106,
   "metadata": {
    "collapsed": false
   },
   "outputs": [],
   "source": [
    "df['totalFights'] = np.nan"
   ]
  },
  {
   "cell_type": "code",
   "execution_count": 93,
   "metadata": {
    "collapsed": false
   },
   "outputs": [],
   "source": [
    "pd.DataFrame(df['record'].unique()).to_csv('test.csv')"
   ]
  },
  {
   "cell_type": "code",
   "execution_count": 108,
   "metadata": {
    "collapsed": false
   },
   "outputs": [
    {
     "data": {
      "text/html": [
       "<div>\n",
       "<table border=\"1\" class=\"dataframe\">\n",
       "  <thead>\n",
       "    <tr style=\"text-align: right;\">\n",
       "      <th></th>\n",
       "      <th>date</th>\n",
       "      <th>event</th>\n",
       "      <th>fRound</th>\n",
       "      <th>location</th>\n",
       "      <th>method</th>\n",
       "      <th>name</th>\n",
       "      <th>notes</th>\n",
       "      <th>record</th>\n",
       "      <th>result</th>\n",
       "      <th>time</th>\n",
       "      <th>versus</th>\n",
       "      <th>totalFights</th>\n",
       "    </tr>\n",
       "  </thead>\n",
       "  <tbody>\n",
       "    <tr>\n",
       "      <th>0</th>\n",
       "      <td>2013-12-15</td>\n",
       "      <td>The Gladiator King</td>\n",
       "      <td>3</td>\n",
       "      <td>Rio de Janeiro,, Brazil</td>\n",
       "      <td>Submission (arm-triangle choke)</td>\n",
       "      <td>Genair da Silva</td>\n",
       "      <td>NaN</td>\n",
       "      <td>14Ð5</td>\n",
       "      <td>Win</td>\n",
       "      <td>01:10</td>\n",
       "      <td>AntíÇnio Magno Lima Pereira</td>\n",
       "      <td>NaN</td>\n",
       "    </tr>\n",
       "    <tr>\n",
       "      <th>1</th>\n",
       "      <td>2013-02-07</td>\n",
       "      <td>Bellator 88</td>\n",
       "      <td>1</td>\n",
       "      <td>Duluth, Georgia,, United States</td>\n",
       "      <td>Submission (armbar)</td>\n",
       "      <td>Genair da Silva</td>\n",
       "      <td>Bellator season eight featherweight tournament...</td>\n",
       "      <td>13Ð5</td>\n",
       "      <td>Loss</td>\n",
       "      <td>01:40</td>\n",
       "      <td>Alexandre Bezerra</td>\n",
       "      <td>NaN</td>\n",
       "    </tr>\n",
       "    <tr>\n",
       "      <th>2</th>\n",
       "      <td>2012-09-29</td>\n",
       "      <td>Sparta: MMA</td>\n",
       "      <td>1</td>\n",
       "      <td>Itajaí_, Santa Catarina,, Brazil</td>\n",
       "      <td>Submission (arm-triangle choke)</td>\n",
       "      <td>Genair da Silva</td>\n",
       "      <td>NaN</td>\n",
       "      <td>13Ð4</td>\n",
       "      <td>Win</td>\n",
       "      <td>03:26</td>\n",
       "      <td>Bruno Leandro Soares</td>\n",
       "      <td>NaN</td>\n",
       "    </tr>\n",
       "    <tr>\n",
       "      <th>3</th>\n",
       "      <td>2012-03-09</td>\n",
       "      <td>Bellator 60</td>\n",
       "      <td>3</td>\n",
       "      <td>Hammond, Indiana,, United States</td>\n",
       "      <td>TKO (leg kicks &amp; punches)</td>\n",
       "      <td>Genair da Silva</td>\n",
       "      <td>Catchweight bout (148ælb); Genair missed weight.</td>\n",
       "      <td>12Ð4</td>\n",
       "      <td>Win</td>\n",
       "      <td>00:51</td>\n",
       "      <td>Bobby Reardanz</td>\n",
       "      <td>NaN</td>\n",
       "    </tr>\n",
       "    <tr>\n",
       "      <th>4</th>\n",
       "      <td>2011-10-01</td>\n",
       "      <td>Bellator 52</td>\n",
       "      <td>1</td>\n",
       "      <td>Lake Charles, Louisiana,, United States</td>\n",
       "      <td>Submission (D'arce choke)</td>\n",
       "      <td>Genair da Silva</td>\n",
       "      <td>Catchweight bout (150ælb); Genair missed weight.</td>\n",
       "      <td>11Ð4</td>\n",
       "      <td>Win</td>\n",
       "      <td>03:51</td>\n",
       "      <td>Bryan Goldsby</td>\n",
       "      <td>NaN</td>\n",
       "    </tr>\n",
       "  </tbody>\n",
       "</table>\n",
       "</div>"
      ],
      "text/plain": [
       "        date               event fRound  \\\n",
       "0 2013-12-15  The Gladiator King      3   \n",
       "1 2013-02-07         Bellator 88      1   \n",
       "2 2012-09-29         Sparta: MMA      1   \n",
       "3 2012-03-09         Bellator 60      3   \n",
       "4 2011-10-01         Bellator 52      1   \n",
       "\n",
       "                                  location                           method  \\\n",
       "0                  Rio de Janeiro,, Brazil  Submission (arm-triangle choke)   \n",
       "1          Duluth, Georgia,, United States              Submission (armbar)   \n",
       "2         Itajaí_, Santa Catarina,, Brazil  Submission (arm-triangle choke)   \n",
       "3         Hammond, Indiana,, United States        TKO (leg kicks & punches)   \n",
       "4  Lake Charles, Louisiana,, United States        Submission (D'arce choke)   \n",
       "\n",
       "              name                                              notes record  \\\n",
       "0  Genair da Silva                                                NaN   14Ð5   \n",
       "1  Genair da Silva  Bellator season eight featherweight tournament...   13Ð5   \n",
       "2  Genair da Silva                                                NaN   13Ð4   \n",
       "3  Genair da Silva  Catchweight bout (148ælb); Genair missed weight.   12Ð4   \n",
       "4  Genair da Silva  Catchweight bout (150ælb); Genair missed weight.   11Ð4   \n",
       "\n",
       "  result   time                       versus  totalFights  \n",
       "0    Win  01:10  AntíÇnio Magno Lima Pereira          NaN  \n",
       "1   Loss  01:40            Alexandre Bezerra          NaN  \n",
       "2    Win  03:26         Bruno Leandro Soares          NaN  \n",
       "3    Win  00:51               Bobby Reardanz          NaN  \n",
       "4    Win  03:51                Bryan Goldsby          NaN  "
      ]
     },
     "execution_count": 108,
     "metadata": {},
     "output_type": "execute_result"
    }
   ],
   "source": [
    "df.head()"
   ]
  },
  {
   "cell_type": "code",
   "execution_count": 110,
   "metadata": {
    "collapsed": false
   },
   "outputs": [
    {
     "data": {
      "text/plain": [
       "4404"
      ]
     },
     "execution_count": 110,
     "metadata": {},
     "output_type": "execute_result"
    }
   ],
   "source": [
    "len(df['record'].unique())"
   ]
  }
 ],
 "metadata": {
  "kernelspec": {
   "display_name": "Python 3",
   "language": "python",
   "name": "python3"
  },
  "language_info": {
   "codemirror_mode": {
    "name": "ipython",
    "version": 3
   },
   "file_extension": ".py",
   "mimetype": "text/x-python",
   "name": "python",
   "nbconvert_exporter": "python",
   "pygments_lexer": "ipython3",
   "version": "3.6.0"
  }
 },
 "nbformat": 4,
 "nbformat_minor": 2
}
