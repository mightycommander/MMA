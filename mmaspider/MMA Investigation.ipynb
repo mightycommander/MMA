{
 "cells": [
  {
   "cell_type": "code",
   "execution_count": 1,
   "metadata": {
    "collapsed": true
   },
   "outputs": [],
   "source": [
    "import pandas as pd\n",
    "import numpy as np\n",
    "import os\n"
   ]
  },
  {
   "cell_type": "code",
   "execution_count": 2,
   "metadata": {
    "collapsed": false
   },
   "outputs": [
    {
     "data": {
      "text/plain": [
       "'C:\\\\Users\\\\mmardle\\\\Documents\\\\Projects\\\\MMA\\\\mmaspider'"
      ]
     },
     "execution_count": 2,
     "metadata": {},
     "output_type": "execute_result"
    }
   ],
   "source": [
    "path = r'C:\\Users\\mmardle\\Documents\\Projects\\MMA\\mmaspider'\n",
    "os.chdir(path)\n",
    "os.getcwd()"
   ]
  },
  {
   "cell_type": "code",
   "execution_count": 44,
   "metadata": {
    "collapsed": false
   },
   "outputs": [
    {
     "name": "stderr",
     "output_type": "stream",
     "text": [
      "C:\\Users\\mmardle\\AppData\\Local\\Continuum\\Anaconda3\\lib\\site-packages\\IPython\\core\\interactiveshell.py:2717: DtypeWarning: Columns (8) have mixed types. Specify dtype option on import or set low_memory=False.\n",
      "  interactivity=interactivity, compiler=compiler, result=result)\n"
     ]
    }
   ],
   "source": [
    "sher = pd.read_csv('items.csv')\n",
    "bel = pd.read_csv('belevents2.csv', encoding='iso-8859-1')\n",
    "sf = pd.read_csv('sfEvents.csv', encoding='iso-8859-1')\n",
    "ufc = pd.read_csv('wikiUfc.csv', encoding='iso-8859-1')\n",
    "ufc.columns.values[3] = 'weightclass'"
   ]
  },
  {
   "cell_type": "code",
   "execution_count": 45,
   "metadata": {
    "collapsed": false
   },
   "outputs": [],
   "source": [
    "bel = bel[['card', 'city', 'date', 'event', 'fightRound', 'fighterOne',\n",
    "       'fighterOneUrl', 'fighterTwo', 'fighterTwoUrl', 'method', 'notes',\n",
    "       'result', 'roundTime', 'weightclass']]\n",
    "\n",
    "ufc['date'] = ufc['date'].str.replace('Ê', ' ')\n",
    "ufc['date'] = ufc['date'].str.replace('å', '')\n",
    "\n",
    "sher['date'] = pd.to_datetime(sher['date'])\n",
    "bel['date'] = pd.to_datetime(bel['date'])\n",
    "ufc = ufc[ufc['date'] != \"Cancelled\"]\n",
    "ufc['date'] = pd.to_datetime(ufc['date'])\n",
    "sf['date'] = pd.to_datetime(sf['date'])"
   ]
  },
  {
   "cell_type": "code",
   "execution_count": 79,
   "metadata": {
    "collapsed": false
   },
   "outputs": [],
   "source": [
    "events = sher.merge(bel[['weightclass', 'date', 'fighterOne']], how='left', left_on=['fighterOne', 'date'], \\\n",
    "                    right_on=['fighterOne', 'date']).\\\n",
    "merge(sf[['weightclass', 'date', 'fighterOne']], how='left', left_on=['fighterOne', 'date'], right_on=['fighterOne', 'date']).\\\n",
    "merge(ufc[[1,3,5]], how='left', left_on=['fighterOne', 'date'], right_on=['fighterOne', 'date'])"
   ]
  },
  {
   "cell_type": "code",
   "execution_count": 89,
   "metadata": {
    "collapsed": false
   },
   "outputs": [],
   "source": [
    "events[['weightclass', 'weightclass_x', 'weightclass_y']] = events[['weightclass', 'weightclass_x', 'weightclass_y']].fillna('')\n",
    "events['WeightClass'] = events[['weightclass', 'weightclass_x', 'weightclass_y']].apply(lambda x: ''.join(x), axis=1)\n",
    "events = events[['fighterOneUrl', 'referee', 'fighterTwoResult', 'fighterTwo', 'title',\n",
    "       'fightNum', 'fighterOneResult', 'fighterTwoUrl', 'fightRound',\n",
    "       'competition', 'time', 'date', 'fighterOne', 'method', 'match',\n",
    "       'location','WeightClass']]"
   ]
  },
  {
   "cell_type": "code",
   "execution_count": 96,
   "metadata": {
    "collapsed": false
   },
   "outputs": [],
   "source": [
    "df = pd.read_csv('allFightersData.csv')"
   ]
  },
  {
   "cell_type": "code",
   "execution_count": 107,
   "metadata": {
    "collapsed": false
   },
   "outputs": [],
   "source": [
    "df['date'] = pd.to_datetime(df['date'].str[24:])"
   ]
  },
  {
   "cell_type": "code",
   "execution_count": 108,
   "metadata": {
    "collapsed": false
   },
   "outputs": [
    {
     "data": {
      "text/html": [
       "<div>\n",
       "<table border=\"1\" class=\"dataframe\">\n",
       "  <thead>\n",
       "    <tr style=\"text-align: right;\">\n",
       "      <th></th>\n",
       "      <th>date</th>\n",
       "      <th>event</th>\n",
       "      <th>fRound</th>\n",
       "      <th>location</th>\n",
       "      <th>method</th>\n",
       "      <th>name</th>\n",
       "      <th>notes</th>\n",
       "      <th>record</th>\n",
       "      <th>result</th>\n",
       "      <th>time</th>\n",
       "      <th>versus</th>\n",
       "    </tr>\n",
       "  </thead>\n",
       "  <tbody>\n",
       "    <tr>\n",
       "      <th>0</th>\n",
       "      <td>2013-12-15</td>\n",
       "      <td>The Gladiator King</td>\n",
       "      <td>3</td>\n",
       "      <td>Rio de Janeiro,, Brazil</td>\n",
       "      <td>Submission (arm-triangle choke)</td>\n",
       "      <td>Genair da Silva</td>\n",
       "      <td>NaN</td>\n",
       "      <td>14–5</td>\n",
       "      <td>Win</td>\n",
       "      <td>1:10</td>\n",
       "      <td>Antônio Magno Lima Pereira</td>\n",
       "    </tr>\n",
       "    <tr>\n",
       "      <th>1</th>\n",
       "      <td>2013-02-07</td>\n",
       "      <td>Bellator 88</td>\n",
       "      <td>1</td>\n",
       "      <td>Duluth, Georgia,, United States</td>\n",
       "      <td>Submission (armbar)</td>\n",
       "      <td>Genair da Silva</td>\n",
       "      <td>Bellator season eight featherweight tournament...</td>\n",
       "      <td>13–5</td>\n",
       "      <td>Loss</td>\n",
       "      <td>1:40</td>\n",
       "      <td>Alexandre Bezerra</td>\n",
       "    </tr>\n",
       "    <tr>\n",
       "      <th>2</th>\n",
       "      <td>2012-09-29</td>\n",
       "      <td>Sparta: MMA</td>\n",
       "      <td>1</td>\n",
       "      <td>Itajaí, Santa Catarina,, Brazil</td>\n",
       "      <td>Submission (arm-triangle choke)</td>\n",
       "      <td>Genair da Silva</td>\n",
       "      <td>NaN</td>\n",
       "      <td>13–4</td>\n",
       "      <td>Win</td>\n",
       "      <td>3:26</td>\n",
       "      <td>Bruno Leandro Soares</td>\n",
       "    </tr>\n",
       "    <tr>\n",
       "      <th>3</th>\n",
       "      <td>2012-03-09</td>\n",
       "      <td>Bellator 60</td>\n",
       "      <td>3</td>\n",
       "      <td>Hammond, Indiana,, United States</td>\n",
       "      <td>TKO (leg kicks &amp; punches)</td>\n",
       "      <td>Genair da Silva</td>\n",
       "      <td>Catchweight bout (148 lb); Genair missed weight.</td>\n",
       "      <td>12–4</td>\n",
       "      <td>Win</td>\n",
       "      <td>0:51</td>\n",
       "      <td>Bobby Reardanz</td>\n",
       "    </tr>\n",
       "    <tr>\n",
       "      <th>4</th>\n",
       "      <td>2011-10-01</td>\n",
       "      <td>Bellator 52</td>\n",
       "      <td>1</td>\n",
       "      <td>Lake Charles, Louisiana,, United States</td>\n",
       "      <td>Submission (D'arce choke)</td>\n",
       "      <td>Genair da Silva</td>\n",
       "      <td>Catchweight bout (150 lb); Genair missed weight.</td>\n",
       "      <td>11–4</td>\n",
       "      <td>Win</td>\n",
       "      <td>3:51</td>\n",
       "      <td>Bryan Goldsby</td>\n",
       "    </tr>\n",
       "  </tbody>\n",
       "</table>\n",
       "</div>"
      ],
      "text/plain": [
       "        date               event fRound  \\\n",
       "0 2013-12-15  The Gladiator King      3   \n",
       "1 2013-02-07         Bellator 88      1   \n",
       "2 2012-09-29         Sparta: MMA      1   \n",
       "3 2012-03-09         Bellator 60      3   \n",
       "4 2011-10-01         Bellator 52      1   \n",
       "\n",
       "                                  location                           method  \\\n",
       "0                  Rio de Janeiro,, Brazil  Submission (arm-triangle choke)   \n",
       "1          Duluth, Georgia,, United States              Submission (armbar)   \n",
       "2          Itajaí, Santa Catarina,, Brazil  Submission (arm-triangle choke)   \n",
       "3         Hammond, Indiana,, United States        TKO (leg kicks & punches)   \n",
       "4  Lake Charles, Louisiana,, United States        Submission (D'arce choke)   \n",
       "\n",
       "              name                                              notes record  \\\n",
       "0  Genair da Silva                                                NaN   14–5   \n",
       "1  Genair da Silva  Bellator season eight featherweight tournament...   13–5   \n",
       "2  Genair da Silva                                                NaN   13–4   \n",
       "3  Genair da Silva   Catchweight bout (148 lb); Genair missed weight.   12–4   \n",
       "4  Genair da Silva   Catchweight bout (150 lb); Genair missed weight.   11–4   \n",
       "\n",
       "  result  time                      versus  \n",
       "0    Win  1:10  Antônio Magno Lima Pereira  \n",
       "1   Loss  1:40           Alexandre Bezerra  \n",
       "2    Win  3:26        Bruno Leandro Soares  \n",
       "3    Win  0:51              Bobby Reardanz  \n",
       "4    Win  3:51               Bryan Goldsby  "
      ]
     },
     "execution_count": 108,
     "metadata": {},
     "output_type": "execute_result"
    }
   ],
   "source": [
    "df.head()"
   ]
  },
  {
   "cell_type": "code",
   "execution_count": null,
   "metadata": {
    "collapsed": true
   },
   "outputs": [],
   "source": []
  }
 ],
 "metadata": {
  "kernelspec": {
   "display_name": "Python 3",
   "language": "python",
   "name": "python3"
  },
  "language_info": {
   "codemirror_mode": {
    "name": "ipython",
    "version": 3
   },
   "file_extension": ".py",
   "mimetype": "text/x-python",
   "name": "python",
   "nbconvert_exporter": "python",
   "pygments_lexer": "ipython3",
   "version": "3.6.0"
  }
 },
 "nbformat": 4,
 "nbformat_minor": 2
}
